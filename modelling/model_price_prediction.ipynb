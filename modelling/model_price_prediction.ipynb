{
 "cells": [
  {
   "cell_type": "markdown",
   "id": "ad1c6d99",
   "metadata": {},
   "source": [
    "# HDB Resale Price Prediction\n",
    "\n",
    "## Machine Learning Modelling\n",
    "\n",
    "### Import Libraries"
   ]
  },
  {
   "cell_type": "code",
   "execution_count": null,
   "id": "de0bb581",
   "metadata": {},
   "outputs": [],
   "source": [
    "# General\n",
    "import math\n",
    "import random\n",
    "random.seed(42)\n",
    "import pickle\n",
    "import numpy as np\n",
    "import pandas as pd\n",
    "from datetime import datetime\n",
    "\n",
    "# Pre-Processing\n",
    "from sklearn.pipeline import Pipeline\n",
    "from sklearn.preprocessing import StandardScaler      # Remove Mean and scale to Unit Variance\n",
    "from sklearn.preprocessing import PowerTransformer    # Log Transformation\n",
    "from sklearn.preprocessing import LabelEncoder\n",
    "from sklearn.preprocessing import OneHotEncoder\n",
    "\n",
    "# Feature Engineering\n",
    "from sklearn.decomposition import PCA\n",
    "from sklearn.feature_selection import VarianceThreshold\n",
    "from sklearn.feature_selection import SelectKBest\n",
    "from sklearn.feature_selection import RFE\n",
    "\n",
    "# Evaluation Metrics\n",
    "from sklearn.metrics import mean_squared_error\n",
    "from sklearn.metrics import r2_score\n",
    "from sklearn.metrics import mean_absolute_error\n",
    "\n",
    "# Validation\n",
    "from sklearn.model_selection import KFold\n",
    "from sklearn.model_selection import cross_val_score\n",
    "from sklearn.model_selection import cross_validate\n",
    "\n",
    "# Modelling\n",
    "from sklearn.model_selection import train_test_split\n",
    "from sklearn.linear_model import LinearRegression\n",
    "from sklearn.linear_model import Lasso\n",
    "from sklearn.linear_model import Ridge\n",
    "from sklearn.linear_model import ElasticNet\n",
    "from sklearn.svm import SVR\n",
    "from sklearn.tree import DecisionTreeRegressor\n",
    "from sklearn.ensemble import AdaBoostRegressor\n",
    "from sklearn.ensemble import GradientBoostingRegressor\n",
    "from sklearn.ensemble import ExtraTreesRegressor\n",
    "from sklearn.ensemble import RandomForestRegressor\n",
    "import lightgbm as ltb\n",
    "import xgboost as xgb\n",
    "import catboost as cb\n",
    "\n",
    "# Hyperparameter Tuning\n",
    "from sklearn.model_selection import GridSearchCV\n",
    "from sklearn.model_selection import RandomizedSearchCV\n",
    "\n",
    "# Warnings\n",
    "import warnings\n",
    "warnings.filterwarnings('ignore')"
   ]
  },
  {
   "cell_type": "markdown",
   "id": "d0cbae79",
   "metadata": {},
   "source": [
    "### Import Dataset"
   ]
  },
  {
   "cell_type": "code",
   "execution_count": null,
   "id": "3fa852e2",
   "metadata": {},
   "outputs": [],
   "source": [
    "# Importing Data\n",
    "data_hdb_cleaned = pd.read_csv('../dataset/hdb_latest_cleaned.csv')\n",
    "data_hdb_cleaned"
   ]
  },
  {
   "cell_type": "code",
   "execution_count": null,
   "id": "822c7ef2",
   "metadata": {},
   "outputs": [],
   "source": [
    "# Understanding Data I\n",
    "data_hdb_cleaned.info()"
   ]
  },
  {
   "cell_type": "code",
   "execution_count": null,
   "id": "e18d4775",
   "metadata": {},
   "outputs": [],
   "source": [
    "# Understanding Data II\n",
    "data_hdb_cleaned.describe()"
   ]
  },
  {
   "cell_type": "markdown",
   "id": "6d687c4a",
   "metadata": {},
   "source": [
    "### Split Training & Testing Dataset"
   ]
  },
  {
   "cell_type": "code",
   "execution_count": null,
   "id": "2e5e0656",
   "metadata": {},
   "outputs": [],
   "source": [
    "# Dependent Variable\n",
    "target_list = ['resale_price']\n",
    "\n",
    "# Independent Variables\n",
    "# feature_list = \n",
    "\n",
    "# Selecting Target Variable and Features from Dataset\n",
    "X = data_hdb_cleaned[feature_list]\n",
    "y = data_hdb_cleaned[target_list]"
   ]
  },
  {
   "cell_type": "code",
   "execution_count": null,
   "id": "f6d442b8",
   "metadata": {},
   "outputs": [],
   "source": [
    "# Split Training & Testing Dataset (80:20 Split)\n",
    "X_train, X_test, y_train, y_test = train_test_split(X, y, train_size=0.8, test_size=0.2, random_state=42)\n",
    "print(X_train.shape, X_test.shape, y_train.shape, y_test.shape)"
   ]
  },
  {
   "cell_type": "code",
   "execution_count": null,
   "id": "b5ef5939",
   "metadata": {},
   "outputs": [],
   "source": [
    "# Reset Indexes\n",
    "# Reset index of X_train, X_test, y_train, y_test\n",
    "X_train = X_train.reset_index(drop=True)\n",
    "X_test = X_test.reset_index(drop=True)\n",
    "y_train = y_train.reset_index(drop=True)\n",
    "y_test = y_test.reset_index(drop=True)"
   ]
  },
  {
   "cell_type": "markdown",
   "id": "4b69d7bb",
   "metadata": {},
   "source": [
    "### Data Preprocessing\n",
    "\n",
    "#### Data Cleaning"
   ]
  },
  {
   "cell_type": "code",
   "execution_count": null,
   "id": "1d497243",
   "metadata": {},
   "outputs": [],
   "source": [
    "# Check Missing Data\n",
    "X_train.isnull().sum()[X_train.isnull().sum() > 0]\n",
    "X_test.isnull().sum()[X_test.isnull().sum() > 0]"
   ]
  },
  {
   "cell_type": "code",
   "execution_count": null,
   "id": "010db7f3",
   "metadata": {},
   "outputs": [],
   "source": [
    "# Fill Missing Data\n",
    "\n",
    "## For [Feature Name]\n"
   ]
  },
  {
   "cell_type": "code",
   "execution_count": null,
   "id": "bacfa87b",
   "metadata": {},
   "outputs": [],
   "source": [
    "# Change Data Types\n",
    "\n",
    "## For [Feature Name]\n"
   ]
  },
  {
   "cell_type": "code",
   "execution_count": null,
   "id": "6141d859",
   "metadata": {},
   "outputs": [],
   "source": [
    "# Recheck Missing Data\n",
    "X_train.isnull().sum()[X_train.isnull().sum() > 0]\n",
    "X_test.isnull().sum()[X_test.isnull().sum() > 0]"
   ]
  },
  {
   "cell_type": "markdown",
   "id": "f8175af3",
   "metadata": {},
   "source": [
    "#### Data Transformation"
   ]
  },
  {
   "cell_type": "code",
   "execution_count": null,
   "id": "e38ac1e8",
   "metadata": {},
   "outputs": [],
   "source": []
  },
  {
   "cell_type": "markdown",
   "id": "33d8b654",
   "metadata": {},
   "source": [
    "### Feature Engineering\n",
    "\n",
    "#### Encoding"
   ]
  },
  {
   "cell_type": "code",
   "execution_count": null,
   "id": "c17eb73e",
   "metadata": {},
   "outputs": [],
   "source": []
  }
 ],
 "metadata": {
  "kernelspec": {
   "display_name": "Python 3 (ipykernel)",
   "language": "python",
   "name": "python3"
  },
  "language_info": {
   "codemirror_mode": {
    "name": "ipython",
    "version": 3
   },
   "file_extension": ".py",
   "mimetype": "text/x-python",
   "name": "python",
   "nbconvert_exporter": "python",
   "pygments_lexer": "ipython3",
   "version": "3.9.13"
  }
 },
 "nbformat": 4,
 "nbformat_minor": 5
}
